{
 "cells": [
  {
   "cell_type": "markdown",
   "id": "728640f4-bec4-4484-a853-da6dd5ae557c",
   "metadata": {},
   "source": [
    "# Importing the Packages"
   ]
  },
  {
   "cell_type": "code",
   "execution_count": 1,
   "id": "1158c939-79ae-4f8a-aac5-fca3fdd88369",
   "metadata": {},
   "outputs": [],
   "source": [
    "import numpy as np"
   ]
  },
  {
   "cell_type": "code",
   "execution_count": 2,
   "id": "b83bf93c-86b0-459c-9582-0e0e6d6f841c",
   "metadata": {},
   "outputs": [],
   "source": [
    "np.set_printoptions(suppress = True, linewidth = 100, precision = 2)\n"
   ]
  },
  {
   "cell_type": "markdown",
   "id": "f3bd06ce-3287-404f-9ee3-216a65ed7bdc",
   "metadata": {},
   "source": [
    "# Importing the data"
   ]
  },
  {
   "cell_type": "code",
   "execution_count": 3,
   "id": "bc7fb72f-e377-4527-ab85-c540ed404d17",
   "metadata": {},
   "outputs": [
    {
     "data": {
      "text/plain": [
       "array([[48010226.  ,         nan,    35000.  , ...,         nan,         nan,     9452.96],\n",
       "       [57693261.  ,         nan,    30000.  , ...,         nan,         nan,     4679.7 ],\n",
       "       [59432726.  ,         nan,    15000.  , ...,         nan,         nan,     1969.83],\n",
       "       ...,\n",
       "       [50415990.  ,         nan,    10000.  , ...,         nan,         nan,     2185.64],\n",
       "       [46154151.  ,         nan,         nan, ...,         nan,         nan,     3199.4 ],\n",
       "       [66055249.  ,         nan,    10000.  , ...,         nan,         nan,      301.9 ]])"
      ]
     },
     "execution_count": 3,
     "metadata": {},
     "output_type": "execute_result"
    }
   ],
   "source": [
    "raw_data = np.genfromtxt(\"loan-data.csv\", delimiter = ';', skip_header = 1, autostrip = True, encoding = \"unicode_escape\")\n",
    "raw_data"
   ]
  },
  {
   "cell_type": "markdown",
   "id": "83ef63be-c39c-4cbb-8a22-21a11018b6ec",
   "metadata": {},
   "source": [
    "# Checking for Incomplete Data\n",
    "- We check for nan values in the dataset. Note that nan means - not a number, therefore may contain string data values."
   ]
  },
  {
   "cell_type": "code",
   "execution_count": 123,
   "id": "ba87d414-41a2-4e53-ade0-2017876bdaae",
   "metadata": {},
   "outputs": [
    {
     "data": {
      "text/plain": [
       "88005"
      ]
     },
     "execution_count": 123,
     "metadata": {},
     "output_type": "execute_result"
    }
   ],
   "source": [
    "np.isnan(raw_data).sum()"
   ]
  },
  {
   "cell_type": "code",
   "execution_count": 5,
   "id": "46590395-5a71-42d9-bba7-ab8cfe72ee10",
   "metadata": {},
   "outputs": [
    {
     "name": "stderr",
     "output_type": "stream",
     "text": [
      "/var/folders/vt/jvjts7bd7k7212z1cm0gmgzc0000gn/T/ipykernel_4710/1379539862.py:2: RuntimeWarning: Mean of empty slice\n",
      "  temp_mean = np.nanmean(raw_data, axis = 0)\n"
     ]
    },
    {
     "data": {
      "text/plain": [
       "array([54015809.19,         nan,    15273.46,         nan,    15311.04,         nan,       16.62,\n",
       "            440.92,         nan,         nan,         nan,         nan,         nan,     3143.85])"
      ]
     },
     "execution_count": 5,
     "metadata": {},
     "output_type": "execute_result"
    }
   ],
   "source": [
    "temp_fill = np.nanmax(raw_data)+1\n",
    "temp_mean = np.nanmean(raw_data, axis = 0)\n",
    "temp_mean"
   ]
  },
  {
   "cell_type": "code",
   "execution_count": 6,
   "id": "2f14de80-0fb1-4c4a-b853-98373760a276",
   "metadata": {},
   "outputs": [
    {
     "name": "stderr",
     "output_type": "stream",
     "text": [
      "/var/folders/vt/jvjts7bd7k7212z1cm0gmgzc0000gn/T/ipykernel_4710/3419705878.py:1: RuntimeWarning: All-NaN slice encountered\n",
      "  temp_stats = np.array([np.nanmin(raw_data, axis  = 0), temp_mean, np.nanmax(raw_data, axis = 0)])\n"
     ]
    }
   ],
   "source": [
    "temp_stats = np.array([np.nanmin(raw_data, axis  = 0), temp_mean, np.nanmax(raw_data, axis = 0)])"
   ]
  },
  {
   "cell_type": "code",
   "execution_count": 7,
   "id": "daaf1720-f81f-41f1-aecb-1cdffb554acc",
   "metadata": {},
   "outputs": [
    {
     "data": {
      "text/plain": [
       "array([[  373332.  ,         nan,     1000.  ,         nan,     1000.  ,         nan,        6.  ,\n",
       "              31.42,         nan,         nan,         nan,         nan,         nan,        0.  ],\n",
       "       [54015809.19,         nan,    15273.46,         nan,    15311.04,         nan,       16.62,\n",
       "             440.92,         nan,         nan,         nan,         nan,         nan,     3143.85],\n",
       "       [68616519.  ,         nan,    35000.  ,         nan,    35000.  ,         nan,       28.99,\n",
       "            1372.97,         nan,         nan,         nan,         nan,         nan,    41913.62]])"
      ]
     },
     "execution_count": 7,
     "metadata": {},
     "output_type": "execute_result"
    }
   ],
   "source": [
    "temp_stats"
   ]
  },
  {
   "cell_type": "markdown",
   "id": "ece14c72-f74c-476f-9b6b-79b65583c018",
   "metadata": {},
   "source": [
    "# Splitting the dataset\n",
    "We Split the dataset, separating string data from numeric data.\n",
    "The argwhere fxn is used in combination with the isnan fxn to locate the indices of the columns with nan values (string) or num values."
   ]
  },
  {
   "cell_type": "code",
   "execution_count": 8,
   "id": "58f84d0d-3f22-4147-ab63-87203750734c",
   "metadata": {},
   "outputs": [],
   "source": [
    "col_strings = np.argwhere(np.isnan(temp_mean)).squeeze()"
   ]
  },
  {
   "cell_type": "code",
   "execution_count": 9,
   "id": "c33ce087-0e1c-4605-9b36-0dc7d362fbf7",
   "metadata": {},
   "outputs": [
    {
     "data": {
      "text/plain": [
       "array([ 1,  3,  5,  8,  9, 10, 11, 12])"
      ]
     },
     "execution_count": 9,
     "metadata": {},
     "output_type": "execute_result"
    }
   ],
   "source": [
    "col_strings"
   ]
  },
  {
   "cell_type": "code",
   "execution_count": 10,
   "id": "c811cbf4-c4b3-4d73-b5ce-f074766be670",
   "metadata": {},
   "outputs": [],
   "source": [
    "col_num = np.argwhere(np.isnan(temp_mean) == False).squeeze()"
   ]
  },
  {
   "cell_type": "code",
   "execution_count": 11,
   "id": "ad6db949-6e3d-486e-a160-ebc62c944532",
   "metadata": {},
   "outputs": [
    {
     "data": {
      "text/plain": [
       "array([ 0,  2,  4,  6,  7, 13])"
      ]
     },
     "execution_count": 11,
     "metadata": {},
     "output_type": "execute_result"
    }
   ],
   "source": [
    "col_num"
   ]
  },
  {
   "cell_type": "markdown",
   "id": "fdf41900-67e1-4bb0-8ced-00dc7a8fabee",
   "metadata": {},
   "source": [
    "# Re Importing the DataSet\n",
    "Here we reimport the splitted dataset (numeric and string) as separate files."
   ]
  },
  {
   "cell_type": "code",
   "execution_count": 12,
   "id": "5e660205-323a-4e2a-a43f-15372c2d1ea8",
   "metadata": {},
   "outputs": [],
   "source": [
    "loan_data_strings = np.genfromtxt(\"loan-data.csv\", delimiter = ';', skip_header = 1, autostrip = True,\n",
    "                                  usecols = col_strings, encoding = \"unicode_escape\", dtype = np.str_)"
   ]
  },
  {
   "cell_type": "code",
   "execution_count": 13,
   "id": "ec148f1c-cd44-4995-bd4d-f7a6970aaf84",
   "metadata": {},
   "outputs": [
    {
     "data": {
      "text/plain": [
       "array([['May-15', 'Current', '36 months', ..., 'Verified',\n",
       "        'https://www.lendingclub.com/browse/loanDetail.action?loan_id=48010226', 'CA'],\n",
       "       ['', 'Current', '36 months', ..., 'Source Verified',\n",
       "        'https://www.lendingclub.com/browse/loanDetail.action?loan_id=57693261', 'NY'],\n",
       "       ['Sep-15', 'Current', '36 months', ..., 'Verified',\n",
       "        'https://www.lendingclub.com/browse/loanDetail.action?loan_id=59432726', 'PA'],\n",
       "       ...,\n",
       "       ['Jun-15', 'Current', '36 months', ..., 'Source Verified',\n",
       "        'https://www.lendingclub.com/browse/loanDetail.action?loan_id=50415990', 'CA'],\n",
       "       ['Apr-15', 'Current', '36 months', ..., 'Source Verified',\n",
       "        'https://www.lendingclub.com/browse/loanDetail.action?loan_id=46154151', 'OH'],\n",
       "       ['Dec-15', 'Current', '36 months', ..., '',\n",
       "        'https://www.lendingclub.com/browse/loanDetail.action?loan_id=66055249', 'IL']],\n",
       "      dtype='<U69')"
      ]
     },
     "execution_count": 13,
     "metadata": {},
     "output_type": "execute_result"
    }
   ],
   "source": [
    "loan_data_strings"
   ]
  },
  {
   "cell_type": "code",
   "execution_count": 14,
   "id": "5d63db22-e209-4efe-a860-77445190c836",
   "metadata": {},
   "outputs": [],
   "source": [
    "loan_data_num = np.genfromtxt(\"loan-data.csv\", delimiter = ';', skip_header = 1, autostrip = True,\n",
    "                                  usecols = col_num, encoding = \"unicode_escape\", filling_values = temp_fill)"
   ]
  },
  {
   "cell_type": "code",
   "execution_count": 15,
   "id": "75621ce1-fcc7-4e35-9e4c-5ea70d10e1db",
   "metadata": {},
   "outputs": [
    {
     "data": {
      "text/plain": [
       "array([[48010226.  ,    35000.  ,    35000.  ,       13.33,     1184.86,     9452.96],\n",
       "       [57693261.  ,    30000.  ,    30000.  , 68616520.  ,      938.57,     4679.7 ],\n",
       "       [59432726.  ,    15000.  ,    15000.  , 68616520.  ,      494.86,     1969.83],\n",
       "       ...,\n",
       "       [50415990.  ,    10000.  ,    10000.  , 68616520.  , 68616520.  ,     2185.64],\n",
       "       [46154151.  , 68616520.  ,    10000.  ,       16.55,      354.3 ,     3199.4 ],\n",
       "       [66055249.  ,    10000.  ,    10000.  , 68616520.  ,      309.97,      301.9 ]])"
      ]
     },
     "execution_count": 15,
     "metadata": {},
     "output_type": "execute_result"
    }
   ],
   "source": [
    "loan_data_num"
   ]
  },
  {
   "cell_type": "markdown",
   "id": "ad59eb10-5ffc-4412-8369-b81eecdde976",
   "metadata": {},
   "source": [
    "# Storing the names of the columns (Headers)\n",
    "Here we store the full header list, string header and numeric header in different variable names."
   ]
  },
  {
   "cell_type": "code",
   "execution_count": 16,
   "id": "8c3c77eb-d936-44d1-96c8-b88aaeef705f",
   "metadata": {},
   "outputs": [],
   "source": [
    "header_full = np.genfromtxt(\"loan-data.csv\", delimiter = ';', skip_footer = raw_data.shape[0], autostrip = True,\n",
    "                                   encoding = \"unicode_escape\", dtype = np.str_)"
   ]
  },
  {
   "cell_type": "code",
   "execution_count": 17,
   "id": "97a6aa07-0971-4316-b740-96bad0a58f5d",
   "metadata": {},
   "outputs": [
    {
     "data": {
      "text/plain": [
       "array(['id', 'issue_d', 'loan_amnt', 'loan_status', 'funded_amnt', 'term', 'int_rate',\n",
       "       'installment', 'grade', 'sub_grade', 'verification_status', 'url', 'addr_state',\n",
       "       'total_pymnt'], dtype='<U19')"
      ]
     },
     "execution_count": 17,
     "metadata": {},
     "output_type": "execute_result"
    }
   ],
   "source": [
    "header_full "
   ]
  },
  {
   "cell_type": "code",
   "execution_count": 18,
   "id": "af23ab5b-f7b1-4769-89b1-aa0ebe369e7a",
   "metadata": {},
   "outputs": [],
   "source": [
    "string_headers, num_headers = header_full[col_strings], header_full[col_num]"
   ]
  },
  {
   "cell_type": "code",
   "execution_count": 19,
   "id": "bb8db5b4-644e-459d-9d54-a34855fd6e06",
   "metadata": {},
   "outputs": [
    {
     "data": {
      "text/plain": [
       "array(['issue_d', 'loan_status', 'term', 'grade', 'sub_grade', 'verification_status', 'url',\n",
       "       'addr_state'], dtype='<U19')"
      ]
     },
     "execution_count": 19,
     "metadata": {},
     "output_type": "execute_result"
    }
   ],
   "source": [
    "string_headers"
   ]
  },
  {
   "cell_type": "code",
   "execution_count": 20,
   "id": "0c5c2f39-6d42-4d07-83ea-9e91d66b416c",
   "metadata": {},
   "outputs": [
    {
     "data": {
      "text/plain": [
       "array(['id', 'loan_amnt', 'funded_amnt', 'int_rate', 'installment', 'total_pymnt'], dtype='<U19')"
      ]
     },
     "execution_count": 20,
     "metadata": {},
     "output_type": "execute_result"
    }
   ],
   "source": [
    "num_headers"
   ]
  },
  {
   "cell_type": "markdown",
   "id": "291ec06b-267d-4e67-8174-17869c1b2ca2",
   "metadata": {},
   "source": [
    "# Creating Checkpoints\n",
    "Here, checkpoints are used to store a copy of our dataset to avoild loosing all the progress made."
   ]
  },
  {
   "cell_type": "code",
   "execution_count": 21,
   "id": "d02ea5de-cdef-433c-94e4-98976d8daa88",
   "metadata": {},
   "outputs": [],
   "source": [
    "def checkpoint(file_name, checkpoint_header, checkpoint_data):\n",
    "    np.savez(file_name, header = checkpoint_header, data = checkpoint_data)\n",
    "    checkpoint_variable = np.load(file_name + \".npz\")\n",
    "    return(checkpoint_variable)"
   ]
  },
  {
   "cell_type": "code",
   "execution_count": 22,
   "id": "d4a08aa7-f273-4e8b-9596-6e811741bfef",
   "metadata": {},
   "outputs": [],
   "source": [
    "checkpoint_test = checkpoint(\"checkpoint_test\", string_headers, loan_data_strings)"
   ]
  },
  {
   "cell_type": "code",
   "execution_count": 125,
   "id": "e15c8998-6742-4ab0-afc6-646e3f91ef57",
   "metadata": {},
   "outputs": [
    {
     "data": {
      "text/plain": [
       "array([['May-15', 'Current', '36 months', ..., 'Verified',\n",
       "        'https://www.lendingclub.com/browse/loanDetail.action?loan_id=48010226', 'CA'],\n",
       "       ['', 'Current', '36 months', ..., 'Source Verified',\n",
       "        'https://www.lendingclub.com/browse/loanDetail.action?loan_id=57693261', 'NY'],\n",
       "       ['Sep-15', 'Current', '36 months', ..., 'Verified',\n",
       "        'https://www.lendingclub.com/browse/loanDetail.action?loan_id=59432726', 'PA'],\n",
       "       ...,\n",
       "       ['Jun-15', 'Current', '36 months', ..., 'Source Verified',\n",
       "        'https://www.lendingclub.com/browse/loanDetail.action?loan_id=50415990', 'CA'],\n",
       "       ['Apr-15', 'Current', '36 months', ..., 'Source Verified',\n",
       "        'https://www.lendingclub.com/browse/loanDetail.action?loan_id=46154151', 'OH'],\n",
       "       ['Dec-15', 'Current', '36 months', ..., '',\n",
       "        'https://www.lendingclub.com/browse/loanDetail.action?loan_id=66055249', 'IL']],\n",
       "      dtype='<U69')"
      ]
     },
     "execution_count": 125,
     "metadata": {},
     "output_type": "execute_result"
    }
   ],
   "source": [
    "checkpoint_test['data']"
   ]
  },
  {
   "cell_type": "markdown",
   "id": "d8e2803a-60a9-440f-9fa9-7d02a42a811b",
   "metadata": {},
   "source": [
    "# Manipulating String Columns"
   ]
  },
  {
   "cell_type": "markdown",
   "id": "95f80e55-e98c-4f68-b99b-2e27a38b8b9d",
   "metadata": {},
   "source": [
    "## Issue Date\n",
    "Here we strip the common parts of  the string \"-15\" and also store the swap the months Jan - Dec with numbers 1-12"
   ]
  },
  {
   "cell_type": "code",
   "execution_count": 24,
   "id": "9f3656dd-b117-403a-b9b0-074cb54dbe58",
   "metadata": {},
   "outputs": [],
   "source": [
    "string_headers[0] = \"issue_date\""
   ]
  },
  {
   "cell_type": "code",
   "execution_count": 25,
   "id": "5a6b4e95-b81c-4322-acb0-e5bef1b95304",
   "metadata": {},
   "outputs": [
    {
     "data": {
      "text/plain": [
       "array(['', 'Apr-15', 'Aug-15', 'Dec-15', 'Feb-15', 'Jan-15', 'Jul-15', 'Jun-15', 'Mar-15',\n",
       "       'May-15', 'Nov-15', 'Oct-15', 'Sep-15'], dtype='<U69')"
      ]
     },
     "execution_count": 25,
     "metadata": {},
     "output_type": "execute_result"
    }
   ],
   "source": [
    "np.unique(loan_data_strings[:,0])"
   ]
  },
  {
   "cell_type": "code",
   "execution_count": 26,
   "id": "514decea-17bf-424b-a76c-1ca11eba026a",
   "metadata": {},
   "outputs": [],
   "source": [
    "loan_data_strings[:,0] = np.chararray.strip(loan_data_strings[:,0], \"-15\")"
   ]
  },
  {
   "cell_type": "code",
   "execution_count": 27,
   "id": "2ab92cb1-6080-4bba-8cd7-279c612cc992",
   "metadata": {},
   "outputs": [
    {
     "data": {
      "text/plain": [
       "array(['', 'Apr', 'Aug', 'Dec', 'Feb', 'Jan', 'Jul', 'Jun', 'Mar', 'May', 'Nov', 'Oct', 'Sep'],\n",
       "      dtype='<U69')"
      ]
     },
     "execution_count": 27,
     "metadata": {},
     "output_type": "execute_result"
    }
   ],
   "source": [
    "np.unique(loan_data_strings[:,0])"
   ]
  },
  {
   "cell_type": "code",
   "execution_count": 28,
   "id": "2a27c1ca-ef84-4042-8f9d-fe3df69b4976",
   "metadata": {},
   "outputs": [],
   "source": [
    "months = np.array(['','Jan', 'Feb', 'Mar', 'Apr', 'May', 'Jun', 'Jul', 'Aug', 'Sep', 'Oct', 'Nov', 'Dec'])"
   ]
  },
  {
   "cell_type": "code",
   "execution_count": 29,
   "id": "53c8cd1f-5f47-4c82-b802-ac5abe355e91",
   "metadata": {},
   "outputs": [
    {
     "data": {
      "text/plain": [
       "array(['', 'Jan', 'Feb', 'Mar', 'Apr', 'May', 'Jun', 'Jul', 'Aug', 'Sep', 'Oct', 'Nov', 'Dec'],\n",
       "      dtype='<U3')"
      ]
     },
     "execution_count": 29,
     "metadata": {},
     "output_type": "execute_result"
    }
   ],
   "source": [
    "months"
   ]
  },
  {
   "cell_type": "code",
   "execution_count": 30,
   "id": "c2570d25-d2d5-498e-8652-b5544632304a",
   "metadata": {},
   "outputs": [],
   "source": [
    "for i in range(13):\n",
    "    loan_data_strings[:,0] = np.where(loan_data_strings[:,0] == months[i], i,loan_data_strings[:,0])"
   ]
  },
  {
   "cell_type": "code",
   "execution_count": 31,
   "id": "33704ebc-7156-4a03-81c9-18ccd5b94f52",
   "metadata": {},
   "outputs": [
    {
     "data": {
      "text/plain": [
       "array(['0', '1', '10', '11', '12', '2', '3', '4', '5', '6', '7', '8', '9'], dtype='<U69')"
      ]
     },
     "execution_count": 31,
     "metadata": {},
     "output_type": "execute_result"
    }
   ],
   "source": [
    "np.unique(loan_data_strings[:,0])"
   ]
  },
  {
   "cell_type": "markdown",
   "id": "b0fb26d3-7c1f-40bc-aa1b-34afb59e04e0",
   "metadata": {},
   "source": [
    "## Loan-status\n",
    "Here, the loan status values are categorized into two: status_bad (charged_off, default, empty, Late 31-120 days) and status_good.\n",
    "status_bad values are changed to '0' and good to '1'"
   ]
  },
  {
   "cell_type": "code",
   "execution_count": 32,
   "id": "9d4765e5-1eb0-4c17-b42d-360c9b4612c1",
   "metadata": {},
   "outputs": [
    {
     "data": {
      "text/plain": [
       "array(['', 'Charged Off', 'Current', 'Default', 'Fully Paid', 'In Grace Period', 'Issued',\n",
       "       'Late (16-30 days)', 'Late (31-120 days)'], dtype='<U69')"
      ]
     },
     "execution_count": 32,
     "metadata": {},
     "output_type": "execute_result"
    }
   ],
   "source": [
    "np.unique(loan_data_strings[:,1])"
   ]
  },
  {
   "cell_type": "code",
   "execution_count": 33,
   "id": "bd8cbf90-805d-49b2-9caa-f506fec3dc68",
   "metadata": {},
   "outputs": [],
   "source": [
    "status_bad = np.array(['', 'Charged Off', 'Default', 'Late (31-120 days)'])"
   ]
  },
  {
   "cell_type": "code",
   "execution_count": 34,
   "id": "c790990e-844d-4efe-aaad-62b646984b3a",
   "metadata": {},
   "outputs": [],
   "source": [
    "loan_data_strings[:,1] = np.where(np.isin(loan_data_strings[:,1], status_bad),0,1)"
   ]
  },
  {
   "cell_type": "code",
   "execution_count": 35,
   "id": "1b4df3cd-bc58-4c58-9d2d-a01cd53157a4",
   "metadata": {},
   "outputs": [
    {
     "data": {
      "text/plain": [
       "array(['0', '1'], dtype='<U69')"
      ]
     },
     "execution_count": 35,
     "metadata": {},
     "output_type": "execute_result"
    }
   ],
   "source": [
    "np.unique(loan_data_strings[:,1])"
   ]
  },
  {
   "cell_type": "markdown",
   "id": "e490b5a0-fa35-4806-a650-14156f38d368",
   "metadata": {},
   "source": [
    "## Term\n",
    "Here, the common string 'months' is stripped off.\n",
    "Also, we assign 60 to any empty cell (following normal convention to ascribe to worst possible outcome to empty cells).\n"
   ]
  },
  {
   "cell_type": "code",
   "execution_count": 36,
   "id": "b980dd98-ee35-437e-8a16-050059bce89d",
   "metadata": {},
   "outputs": [
    {
     "data": {
      "text/plain": [
       "array(['', '36 months', '60 months'], dtype='<U69')"
      ]
     },
     "execution_count": 36,
     "metadata": {},
     "output_type": "execute_result"
    }
   ],
   "source": [
    "np.unique(loan_data_strings[:,2])"
   ]
  },
  {
   "cell_type": "code",
   "execution_count": 37,
   "id": "59a96b5b-3504-4b48-b83f-677ded94ac13",
   "metadata": {},
   "outputs": [
    {
     "data": {
      "text/plain": [
       "array(['36', '36', '36', ..., '36', '36', '36'], dtype='<U69')"
      ]
     },
     "execution_count": 37,
     "metadata": {},
     "output_type": "execute_result"
    }
   ],
   "source": [
    "loan_data_strings[:,2] = np.chararray.strip(loan_data_strings[:,2], \" months\")\n",
    "loan_data_strings[:,2]"
   ]
  },
  {
   "cell_type": "code",
   "execution_count": 39,
   "id": "dfc412fb-2505-4caa-806e-562e3f79ca64",
   "metadata": {},
   "outputs": [],
   "source": [
    "loan_data_strings[:,2] = np.where(loan_data_strings[:,2] == '', '60', loan_data_strings[:,2])\n"
   ]
  },
  {
   "cell_type": "markdown",
   "id": "e101c27b-b12d-42bf-a87c-01f1dfa023f3",
   "metadata": {},
   "source": [
    "## Grades & Subgrades\n",
    "- Here we substitue the empty spaces  in sub_grade with the worst possible outcome of its grade. i.e if grade == B, empty sub_grade == B5.\n",
    "- Also, we notice that there are individuals with neither Grade nor sub_grade, hence we fill the sun_grades of these cells with a value of H1(worst possible outcome).\n",
    "- Since we no longer need the Grades column, we delete it as well its header."
   ]
  },
  {
   "cell_type": "code",
   "execution_count": null,
   "id": "b1ecb432-6918-4b24-96b5-3fc93faef25f",
   "metadata": {},
   "outputs": [],
   "source": [
    "np.unique(loan_data_strings[:,3])\n",
    "np.unique(loan_data_strings[:,3])"
   ]
  },
  {
   "cell_type": "code",
   "execution_count": 52,
   "id": "be4b965b-9557-43ae-9b8c-150577ca32af",
   "metadata": {},
   "outputs": [],
   "source": [
    "for i in np.unique(loan_data_strings[:,3])[1:]:\n",
    "    loan_data_strings[:,4] = np.where((loan_data_strings[:,4] == ''), & (loan_data_strings[:,3] == i), i + '5', loan_data_strings[:,4])  \n",
    "    \n",
    "    "
   ]
  },
  {
   "cell_type": "code",
   "execution_count": 54,
   "id": "d9e0a461-ce46-4fb6-b291-f32707c0a9ac",
   "metadata": {},
   "outputs": [],
   "source": [
    "for i in np.unique(loan_data_strings[:,3])[1:]:\n",
    "    loan_data_strings[:,4] = np.where(loan_data_strings[:,4] == '', 'H1', loan_data_strings[:,4])  \n",
    "    \n",
    "    "
   ]
  },
  {
   "cell_type": "code",
   "execution_count": 55,
   "id": "1d93fdb9-2078-4c81-a084-1bbe90e3ce83",
   "metadata": {},
   "outputs": [
    {
     "data": {
      "text/plain": [
       "array(['A1', 'A2', 'A3', 'A4', 'A5', 'B1', 'B2', 'B3', 'B4', 'B5', 'C1', 'C2', 'C3', 'C4', 'C5',\n",
       "       'D1', 'D2', 'D3', 'D4', 'D5', 'E1', 'E2', 'E3', 'E4', 'E5', 'F1', 'F2', 'F3', 'F4', 'F5',\n",
       "       'G1', 'G2', 'G3', 'G4', 'G5', 'H1'], dtype='<U69')"
      ]
     },
     "execution_count": 55,
     "metadata": {},
     "output_type": "execute_result"
    }
   ],
   "source": [
    "np.unique(loan_data_strings[:,4])"
   ]
  },
  {
   "cell_type": "code",
   "execution_count": 56,
   "id": "1fda7ca9-5ebc-4053-9295-eace972f9c7d",
   "metadata": {},
   "outputs": [],
   "source": [
    "loan_data_strings = np.delete(loan_data_strings, 3, axis =1)"
   ]
  },
  {
   "cell_type": "code",
   "execution_count": 57,
   "id": "714a1834-5548-43c3-99ee-e2118ac07280",
   "metadata": {},
   "outputs": [],
   "source": [
    "string_headers = np.delete(string_headers, 3)"
   ]
  },
  {
   "cell_type": "code",
   "execution_count": 58,
   "id": "acde5f89-983b-4fd1-9028-0eaf581b13c4",
   "metadata": {},
   "outputs": [
    {
     "data": {
      "text/plain": [
       "'sub_grade'"
      ]
     },
     "execution_count": 58,
     "metadata": {},
     "output_type": "execute_result"
    }
   ],
   "source": [
    "string_headers[3]"
   ]
  },
  {
   "cell_type": "markdown",
   "id": "19b6a565-69c8-4e94-a592-739f82bbbcf2",
   "metadata": {},
   "source": [
    "### CONVERTING SUB_GRADE\n",
    "As before, we swap the unique subgrades with numeric values."
   ]
  },
  {
   "cell_type": "code",
   "execution_count": 59,
   "id": "b491346d-8ba0-4cc0-8df1-16414e7919e3",
   "metadata": {},
   "outputs": [],
   "source": [
    "sub_array = (['A1', 'A2', 'A3', 'A4', 'A5', 'B1', 'B2', 'B3', 'B4', 'B5', 'C1', 'C2', 'C3', 'C4', 'C5',\n",
    "       'D1', 'D2', 'D3', 'D4', 'D5', 'E1', 'E2', 'E3', 'E4', 'E5', 'F1', 'F2', 'F3', 'F4', 'F5',\n",
    "       'G1', 'G2', 'G3', 'G4', 'G5', 'H1'])"
   ]
  },
  {
   "cell_type": "code",
   "execution_count": 61,
   "id": "336acffb-cc12-45bc-ba75-903aaa5d330e",
   "metadata": {},
   "outputs": [
    {
     "data": {
      "text/plain": [
       "'A2'"
      ]
     },
     "execution_count": 61,
     "metadata": {},
     "output_type": "execute_result"
    }
   ],
   "source": [
    "sub_array[1]"
   ]
  },
  {
   "cell_type": "code",
   "execution_count": null,
   "id": "634227ab-0499-4403-9ab6-9dc3f70c91af",
   "metadata": {},
   "outputs": [],
   "source": [
    "Convert SubGrade to Numbers."
   ]
  },
  {
   "cell_type": "code",
   "execution_count": 66,
   "id": "c4ecb797-2917-4f94-9239-a89bb879d6f8",
   "metadata": {},
   "outputs": [],
   "source": [
    "for i in range(1,37):\n",
    "    loan_data_strings[:,3] = np.where(loan_data_strings[:,3] == sub_array[i-1], i,loan_data_strings[:,3])"
   ]
  },
  {
   "cell_type": "code",
   "execution_count": 68,
   "id": "8caf4c0f-23c1-418e-9133-edeacdf68dd8",
   "metadata": {},
   "outputs": [
    {
     "data": {
      "text/plain": [
       "array(['1', '10', '11', '12', '13', '14', '15', '16', '17', '18', '19', '2', '20', '21', '22',\n",
       "       '23', '24', '25', '26', '27', '28', '29', '3', '30', '31', '32', '33', '34', '35', '36',\n",
       "       '4', '5', '6', '7', '8', '9'], dtype='<U69')"
      ]
     },
     "execution_count": 68,
     "metadata": {},
     "output_type": "execute_result"
    }
   ],
   "source": [
    "np.unique(loan_data_strings[:,3])"
   ]
  },
  {
   "cell_type": "markdown",
   "id": "b78f70a0-2d11-45d5-ada4-5ba695826a53",
   "metadata": {},
   "source": [
    "## Verification \n",
    "As usual, we fill empty space with worse case(not verified).\n",
    "Also, we categorize the data into good and bad and set the good to 1 and bad to 0"
   ]
  },
  {
   "cell_type": "code",
   "execution_count": null,
   "id": "9aff37eb-f41c-4846-93b5-e3ed6a19551a",
   "metadata": {},
   "outputs": [],
   "source": [
    "loan_data_strings[:,4]"
   ]
  },
  {
   "cell_type": "code",
   "execution_count": 71,
   "id": "2ccd2401-bdfc-4e1f-aa2b-5af7f84d2bb8",
   "metadata": {},
   "outputs": [],
   "source": [
    "loan_data_strings[:,4] = np.where((loan_data_strings[:,4] == '') | (loan_data_strings[:,4] == 'Not Verified'), 0,1)"
   ]
  },
  {
   "cell_type": "markdown",
   "id": "b25f725a-75c9-493b-af70-dcc6452d2471",
   "metadata": {},
   "source": [
    "## URL\n",
    "-The repeating strings are stripped.\n",
    "Eventually, we see that the URL column is redundant, so we delete it."
   ]
  },
  {
   "cell_type": "code",
   "execution_count": 76,
   "id": "c1a9f785-c780-489d-bbd9-ef1f5f3c0fcb",
   "metadata": {},
   "outputs": [],
   "source": [
    "loan_data_strings[:,5] = np.chararray.strip(loan_data_strings[:,5], \"https://www.lendingclub.com/browse/loanDetail.action?loan_id=\")"
   ]
  },
  {
   "cell_type": "code",
   "execution_count": 78,
   "id": "120db68a-4406-4425-8099-f2edc97bd8c1",
   "metadata": {},
   "outputs": [],
   "source": [
    "loan_data_strings = np.delete(loan_data_strings, 5, axis =1)\n",
    "string_headers = np.delete(string_headers, 5)"
   ]
  },
  {
   "cell_type": "code",
   "execution_count": null,
   "id": "cfdfed97-d9cd-47c3-a390-f32529c5542c",
   "metadata": {},
   "outputs": [],
   "source": [
    "State_Address"
   ]
  },
  {
   "cell_type": "code",
   "execution_count": 81,
   "id": "45c411d6-7ca0-4202-9e6e-86f49ca8d563",
   "metadata": {},
   "outputs": [
    {
     "data": {
      "text/plain": [
       "(50,)"
      ]
     },
     "execution_count": 81,
     "metadata": {},
     "output_type": "execute_result"
    }
   ],
   "source": [
    "np.unique(loan_data_strings[:,5]).size"
   ]
  },
  {
   "cell_type": "code",
   "execution_count": null,
   "id": "258184cc-724c-4b89-8d31-9205e40cd5a8",
   "metadata": {},
   "outputs": [],
   "source": []
  }
 ],
 "metadata": {
  "kernelspec": {
   "display_name": "Python 3 (ipykernel)",
   "language": "python",
   "name": "python3"
  },
  "language_info": {
   "codemirror_mode": {
    "name": "ipython",
    "version": 3
   },
   "file_extension": ".py",
   "mimetype": "text/x-python",
   "name": "python",
   "nbconvert_exporter": "python",
   "pygments_lexer": "ipython3",
   "version": "3.11.7"
  }
 },
 "nbformat": 4,
 "nbformat_minor": 5
}
